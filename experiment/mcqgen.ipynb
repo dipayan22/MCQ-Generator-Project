{
 "cells": [
  {
   "cell_type": "code",
   "execution_count": null,
   "metadata": {},
   "outputs": [],
   "source": []
  },
  {
   "cell_type": "code",
   "execution_count": 38,
   "metadata": {},
   "outputs": [],
   "source": [
    "from langchain.llms import GooglePalm\n",
    "from langchain.chat_models import ChatGooglePalm\n",
    "from langchain.prompts import PromptTemplate\n",
    "from langchain.chains import LLMChain, SequentialChain\n",
    "from langchain.callbacks import get_openai_callback\n",
    "\n",
    "import os\n",
    "import json\n",
    "import pandas as pd\n",
    "import traceback\n",
    "\n",
    "from dotenv import load_dotenv\n",
    "import PyPDF2"
   ]
  },
  {
   "cell_type": "code",
   "execution_count": 39,
   "metadata": {},
   "outputs": [
    {
     "data": {
      "text/plain": [
       "True"
      ]
     },
     "execution_count": 39,
     "metadata": {},
     "output_type": "execute_result"
    }
   ],
   "source": [
    "load_dotenv()"
   ]
  },
  {
   "cell_type": "code",
   "execution_count": 40,
   "metadata": {},
   "outputs": [],
   "source": [
    "google_api_key=os.getenv(\"GOOGLE_API_KEY\")"
   ]
  },
  {
   "cell_type": "code",
   "execution_count": 41,
   "metadata": {},
   "outputs": [],
   "source": [
    "llm=ChatGooglePalm(model_name=\"models/chat-bison-001\",google_api_key=google_api_key,temperature=0.7)"
   ]
  },
  {
   "cell_type": "code",
   "execution_count": 42,
   "metadata": {},
   "outputs": [
    {
     "data": {
      "text/plain": [
       "ChatGooglePalm(client=<module 'google.generativeai' from 'd:\\\\MCQ Generator Project\\\\venv\\\\lib\\\\site-packages\\\\google\\\\generativeai\\\\__init__.py'>, google_api_key=SecretStr('**********'), temperature=0.7)"
      ]
     },
     "execution_count": 42,
     "metadata": {},
     "output_type": "execute_result"
    }
   ],
   "source": [
    "llm"
   ]
  },
  {
   "cell_type": "code",
   "execution_count": 43,
   "metadata": {},
   "outputs": [],
   "source": [
    "TEMPLATE=\"\"\"\n",
    "Text:{text}\n",
    "You are an expert MCQ maker. Given the above text, it is your job to \\\n",
    "create a quiz  of {number} multiple choice questions for {subject} students in {tone} tone. \n",
    "Make sure the questions are not repeated and check all the questions to be conforming the text as well.\n",
    "Make sure to format your response like  RESPONSE_JSON below  and use it as a guide. \\\n",
    "Ensure to make {number} MCQs\n",
    "### RESPONSE_JSON\n",
    "{response_json}\n",
    "\n",
    "\"\"\""
   ]
  },
  {
   "cell_type": "code",
   "execution_count": 44,
   "metadata": {},
   "outputs": [],
   "source": [
    "RESPONSE_JSON={\n",
    "    \"1\":{\n",
    "        \"mcq\":\"multiple choice question\",\n",
    "        \"options\":{\n",
    "            \"a\":\"choice here\",\n",
    "            \"b\":\"choice here\",\n",
    "            \"c\":\"choice here\",\n",
    "            \"d\":\"choice here\",\n",
    "        },\n",
    "        \"correct\":\"correct answer\",\n",
    "\n",
    "    },\n",
    "    \"2\":{\n",
    "        \"mcq\":\"multiple choice question\",\n",
    "        \"options\":{\n",
    "            \"a\":\"choice here\",\n",
    "            \"b\":\"choice here\",\n",
    "            \"c\":\"choice here\",\n",
    "            \"d\":\"choice here\",\n",
    "        },\n",
    "        \"correct\":\"correct answer\",\n",
    "\n",
    "    },\n",
    "    \"3\":{\n",
    "        \"mcq\":\"multiple choice question\",\n",
    "        \"options\":{\n",
    "            \"a\":\"choice here\",\n",
    "            \"b\":\"choice here\",\n",
    "            \"c\":\"choice here\",\n",
    "            \"d\":\"choice here\",\n",
    "        },\n",
    "        \"correct\":\"correct answer\",\n",
    "\n",
    "    },\n",
    "}"
   ]
  },
  {
   "cell_type": "code",
   "execution_count": 45,
   "metadata": {},
   "outputs": [],
   "source": [
    "response_json=json.dumps(RESPONSE_JSON)"
   ]
  },
  {
   "cell_type": "code",
   "execution_count": 46,
   "metadata": {},
   "outputs": [],
   "source": [
    "quiz_generation_prompt = PromptTemplate(\n",
    "    input_variables=[\"text\", \"number\", \"subject\", \"tone\", \"response_json\"],\n",
    "    template=TEMPLATE\n",
    "    )"
   ]
  },
  {
   "cell_type": "code",
   "execution_count": 47,
   "metadata": {},
   "outputs": [],
   "source": [
    "quiz_chain=LLMChain(llm=llm, prompt=quiz_generation_prompt, output_key=\"quiz\", verbose=True)"
   ]
  },
  {
   "cell_type": "code",
   "execution_count": 48,
   "metadata": {},
   "outputs": [],
   "source": [
    "PATH=\"./../data.txt\"\n",
    "\n",
    "with open(PATH,'r') as f:\n",
    "    TEXT=f.read()"
   ]
  },
  {
   "cell_type": "code",
   "execution_count": 49,
   "metadata": {},
   "outputs": [],
   "source": [
    "NUMBER=5\n",
    "SUBJECT='Biology'\n",
    "TONE='simple'\n"
   ]
  },
  {
   "cell_type": "code",
   "execution_count": 50,
   "metadata": {},
   "outputs": [
    {
     "name": "stdout",
     "output_type": "stream",
     "text": [
      "\n",
      "\n",
      "\u001b[1m> Entering new LLMChain chain...\u001b[0m\n",
      "Prompt after formatting:\n",
      "\u001b[32;1m\u001b[1;3m\n",
      "Text:Biology is the scientific study of life.[1][2][3] It is a natural science with a broad scope but has several unifying themes that tie it together as a single, coherent field.[1][2][3] For instance, all organisms are made up of cells that process hereditary information encoded in genes, which can be transmitted to future generations. Another major theme is evolution, which explains the unity and diversity of life.[1][2][3] Energy processing is also important to life as it allows organisms to move, grow, and reproduce.[1][2][3] Finally, all organisms are able to regulate their own internal environments.[1][2][3][4][5]\n",
      "\n",
      "Biologists are able to study life at multiple levels of organization,[1] from the molecular biology of a cell to the anatomy and physiology of plants and animals, and evolution of populations.[1][6] Hence, there are multiple subdisciplines within biology, each defined by the nature of their research questions and the tools that they use.[7][8][9] Like other scientists, biologists use the scientific method to make observations, pose questions, generate hypotheses, perform experiments, and form conclusions about the world around them.[1]\n",
      "\n",
      "Life on Earth, which emerged more than 3.7 billion years ago,[10] is immensely diverse. Biologists have sought to study and classify the various forms of life, from prokaryotic organisms such as archaea and bacteria to eukaryotic organisms such as protists, fungi, plants, and animals. These various organisms contribute to the biodiversity of an ecosystem, where they play specialized roles in the cycling of nutrients and energy through their biophysical environment.\n",
      "You are an expert MCQ maker. Given the above text, it is your job to create a quiz  of 5 multiple choice questions for Biology students in simple tone. \n",
      "Make sure the questions are not repeated and check all the questions to be conforming the text as well.\n",
      "Make sure to format your response like  RESPONSE_JSON below  and use it as a guide. Ensure to make 5 MCQs\n",
      "### RESPONSE_JSON\n",
      "{\"1\": {\"mcq\": \"multiple choice question\", \"options\": {\"a\": \"choice here\", \"b\": \"choice here\", \"c\": \"choice here\", \"d\": \"choice here\"}, \"correct\": \"corect answer\"}, \"2\": {\"mcq\": \"multiple choice question\", \"options\": {\"a\": \"choice here\", \"b\": \"choice here\", \"c\": \"choice here\", \"d\": \"choice here\"}, \"correct\": \"corect answer\"}, \"3\": {\"mcq\": \"multiple choice question\", \"options\": {\"a\": \"choice here\", \"b\": \"choice here\", \"c\": \"choice here\", \"d\": \"choice here\"}, \"correct\": \"corect answer\"}}\n",
      "\n",
      "\u001b[0m\n",
      "\n",
      "\u001b[1m> Finished chain.\u001b[0m\n"
     ]
    }
   ],
   "source": [
    "quiz_result = quiz_chain.run({\n",
    "        \"text\": TEXT,\n",
    "        \"number\": NUMBER,\n",
    "        \"subject\": SUBJECT,\n",
    "        \"tone\": TONE,\n",
    "        \"response_json\": json.dumps(RESPONSE_JSON)\n",
    "    })"
   ]
  },
  {
   "cell_type": "code",
   "execution_count": 51,
   "metadata": {},
   "outputs": [
    {
     "data": {
      "text/plain": [
       "\"### Biology MCQ Quiz\\n\\n1. **What is biology?**\\n\\nA. The scientific study of life.\\nB. The study of the Earth's physical environment.\\nC. The study of the human body.\\nD. The study of plants.\\n\\n2. **What are some unifying themes in biology?**\\n\\nA. All organisms are made up of cells.\\nB. All organisms process hereditary information encoded in genes.\\nC. All organisms are able to move, grow, and reproduce.\\nD. All of the above.\\n\\n3. **What is evolution?**\\n\\nA. The process by which species change over time.\\nB. The process by which organisms adapt to their environment.\\nC. The process by which new species are formed.\\nD. All of the above.\\n\\n4. **What is energy processing?**\\n\\nA. The process by which organisms convert energy from one form to another.\\nB. The process by which organisms use energy to move, grow, and reproduce.\\nC. The process by which organisms maintain their internal environment.\\nD. All of the above.\\n\\n5. **What is homeostasis?**\\n\\nA. The ability of an organism to maintain a stable internal environment.\\nB. The ability of an organism to regulate its own temperature.\\nC. The ability of an organism to maintain a constant blood sugar level.\\nD. All of the above.\\n\\nAnswers:\\n1. A\\n2. D\\n3. D\\n4. D\\n5. A\""
      ]
     },
     "execution_count": 51,
     "metadata": {},
     "output_type": "execute_result"
    }
   ],
   "source": [
    "quiz_result"
   ]
  },
  {
   "cell_type": "code",
   "execution_count": null,
   "metadata": {},
   "outputs": [],
   "source": []
  },
  {
   "cell_type": "code",
   "execution_count": 52,
   "metadata": {},
   "outputs": [],
   "source": [
    "TEMPLATE2=\"\"\"\n",
    "You are an expert english grammarian and writer. Given a Multiple Choice Quiz for {subject} students.\\\n",
    "You need to evaluate the complexity of the question and give a complete analysis of the quiz. Only use at max 50 words for complexity analysis. \n",
    "if the quiz is not at per with the cognitive and analytical abilities of the students,\\\n",
    "update the quiz questions which needs to be changed and change the tone such that it perfectly fits the student abilities\n",
    "Quiz_MCQs:\n",
    "{quiz}\n",
    "\n",
    "Check from an expert English Writer of the above quiz:\n",
    "\n",
    "\"\"\""
   ]
  },
  {
   "cell_type": "code",
   "execution_count": 53,
   "metadata": {},
   "outputs": [],
   "source": [
    "quiz_evaluation_prompt=PromptTemplate(input_variables=['subject','quiz'],template=TEMPLATE2)"
   ]
  },
  {
   "cell_type": "code",
   "execution_count": 54,
   "metadata": {},
   "outputs": [],
   "source": [
    "review_chain=LLMChain(llm=llm,prompt=quiz_evaluation_prompt,output_key=\"review\",verbose=True)"
   ]
  },
  {
   "cell_type": "code",
   "execution_count": 55,
   "metadata": {},
   "outputs": [
    {
     "name": "stdout",
     "output_type": "stream",
     "text": [
      "\n",
      "\n",
      "\u001b[1m> Entering new LLMChain chain...\u001b[0m\n",
      "Prompt after formatting:\n",
      "\u001b[32;1m\u001b[1;3m\n",
      "You are an expert english grammarian and writer. Given a Multiple Choice Quiz for Biology students.You need to evaluate the complexity of the question and give a complete analysis of the quiz. Only use at max 50 words for complexity analysis. \n",
      "if the quiz is not at per with the cognitive and analytical abilities of the students,update the quiz questions which needs to be changed and change the tone such that it perfectly fits the student abilities\n",
      "Quiz_MCQs:\n",
      "### Biology MCQ Quiz\n",
      "\n",
      "1. **What is biology?**\n",
      "\n",
      "A. The scientific study of life.\n",
      "B. The study of the Earth's physical environment.\n",
      "C. The study of the human body.\n",
      "D. The study of plants.\n",
      "\n",
      "2. **What are some unifying themes in biology?**\n",
      "\n",
      "A. All organisms are made up of cells.\n",
      "B. All organisms process hereditary information encoded in genes.\n",
      "C. All organisms are able to move, grow, and reproduce.\n",
      "D. All of the above.\n",
      "\n",
      "3. **What is evolution?**\n",
      "\n",
      "A. The process by which species change over time.\n",
      "B. The process by which organisms adapt to their environment.\n",
      "C. The process by which new species are formed.\n",
      "D. All of the above.\n",
      "\n",
      "4. **What is energy processing?**\n",
      "\n",
      "A. The process by which organisms convert energy from one form to another.\n",
      "B. The process by which organisms use energy to move, grow, and reproduce.\n",
      "C. The process by which organisms maintain their internal environment.\n",
      "D. All of the above.\n",
      "\n",
      "5. **What is homeostasis?**\n",
      "\n",
      "A. The ability of an organism to maintain a stable internal environment.\n",
      "B. The ability of an organism to regulate its own temperature.\n",
      "C. The ability of an organism to maintain a constant blood sugar level.\n",
      "D. All of the above.\n",
      "\n",
      "Answers:\n",
      "1. A\n",
      "2. D\n",
      "3. D\n",
      "4. D\n",
      "5. A\n",
      "\n",
      "Check from an expert English Writer of the above quiz:\n",
      "\n",
      "\u001b[0m\n",
      "\n",
      "\u001b[1m> Finished chain.\u001b[0m\n"
     ]
    }
   ],
   "source": [
    "review_result=review_chain.run({\n",
    "    \"subject\":SUBJECT,\n",
    "    \"quiz\":quiz_result\n",
    "})"
   ]
  },
  {
   "cell_type": "code",
   "execution_count": 56,
   "metadata": {},
   "outputs": [
    {
     "data": {
      "text/plain": [
       "'The quiz is well-written and clear, with no grammatical or spelling errors. The questions are all relevant to the topic of biology, and the answers are accurate. The quiz is also at a suitable level of difficulty for high school students.\\n\\nHowever, there are a few areas where the quiz could be improved. First, the quiz could be more engaging by including more visuals, such as diagrams or images. Second, the quiz could be more interactive by including drag-and-drop or fill-in-the-blank questions. Finally, the quiz could be more personalized by including questions that are tailored to the student\\'s individual interests.\\n\\nOverall, the quiz is a valuable tool for assessing students\\' knowledge of biology. With a few minor improvements, it could be an even more effective learning tool.\\n\\nHere are some specific suggestions for improvement:\\n\\n1. **Include more visuals.** Diagrams, images, and other visuals can help students to understand complex concepts more easily. For example, the question \"What are some unifying themes in biology?\" could be accompanied by a diagram of a cell, showing the different organelles and their functions.\\n2. **Make the quiz more interactive.** Drag-and-drop and fill-in-the-blank questions can help students to engage with the material and to check their understanding. For example, the question \"What is evolution?\" could be followed by a drag-and-drop question in which students are asked to match the correct definition to each of the following terms: natural selection, mutation, genetic drift.\\n3. **Personalize the quiz.** Questions that are tailored to the student\\'s individual interests can help to keep them engaged and motivated. For example, the quiz could include a section of questions about the student\\'s favorite animal or plant.\\n\\nI hope these suggestions are helpful. Please let me know if you have any further questions.'"
      ]
     },
     "execution_count": 56,
     "metadata": {},
     "output_type": "execute_result"
    }
   ],
   "source": [
    "review_result"
   ]
  },
  {
   "cell_type": "code",
   "execution_count": 57,
   "metadata": {},
   "outputs": [],
   "source": [
    "generate_evaluation_chain=SequentialChain(chains=[quiz_chain,review_chain],\n",
    "                input_variables=[\"text\",\"number\",\"subject\",\"tone\",\"response_json\"],\n",
    "                output_variables=['quiz','review'],\n",
    "                verbose=True)"
   ]
  },
  {
   "cell_type": "code",
   "execution_count": 58,
   "metadata": {},
   "outputs": [],
   "source": [
    "PATH=\"./../data.txt\""
   ]
  },
  {
   "cell_type": "code",
   "execution_count": 59,
   "metadata": {},
   "outputs": [],
   "source": [
    "with open(PATH,'r') as file :\n",
    "    TEXT=file.read()"
   ]
  },
  {
   "cell_type": "code",
   "execution_count": 60,
   "metadata": {},
   "outputs": [
    {
     "name": "stdout",
     "output_type": "stream",
     "text": [
      "Biology is the scientific study of life.[1][2][3] It is a natural science with a broad scope but has several unifying themes that tie it together as a single, coherent field.[1][2][3] For instance, all organisms are made up of cells that process hereditary information encoded in genes, which can be transmitted to future generations. Another major theme is evolution, which explains the unity and diversity of life.[1][2][3] Energy processing is also important to life as it allows organisms to move, grow, and reproduce.[1][2][3] Finally, all organisms are able to regulate their own internal environments.[1][2][3][4][5]\n",
      "\n",
      "Biologists are able to study life at multiple levels of organization,[1] from the molecular biology of a cell to the anatomy and physiology of plants and animals, and evolution of populations.[1][6] Hence, there are multiple subdisciplines within biology, each defined by the nature of their research questions and the tools that they use.[7][8][9] Like other scientists, biologists use the scientific method to make observations, pose questions, generate hypotheses, perform experiments, and form conclusions about the world around them.[1]\n",
      "\n",
      "Life on Earth, which emerged more than 3.7 billion years ago,[10] is immensely diverse. Biologists have sought to study and classify the various forms of life, from prokaryotic organisms such as archaea and bacteria to eukaryotic organisms such as protists, fungi, plants, and animals. These various organisms contribute to the biodiversity of an ecosystem, where they play specialized roles in the cycling of nutrients and energy through their biophysical environment.\n"
     ]
    }
   ],
   "source": [
    "print(TEXT)"
   ]
  },
  {
   "cell_type": "code",
   "execution_count": 61,
   "metadata": {},
   "outputs": [],
   "source": [
    "# TEXT\n",
    "NUMBER=5\n",
    "SUBJECT=\"Biology\"\n",
    "TONE='simple'\n",
    "# RESPONSE_JOSN=RESPONSE_JOSN"
   ]
  },
  {
   "cell_type": "code",
   "execution_count": 62,
   "metadata": {},
   "outputs": [],
   "source": [
    "# json.dumps(RESPONSE_JSON)"
   ]
  },
  {
   "cell_type": "code",
   "execution_count": 63,
   "metadata": {},
   "outputs": [
    {
     "name": "stdout",
     "output_type": "stream",
     "text": [
      "\n",
      "\n",
      "\u001b[1m> Entering new SequentialChain chain...\u001b[0m\n",
      "\n",
      "\n",
      "\u001b[1m> Entering new LLMChain chain...\u001b[0m\n",
      "Prompt after formatting:\n",
      "\u001b[32;1m\u001b[1;3m\n",
      "Text:Biology is the scientific study of life.[1][2][3] It is a natural science with a broad scope but has several unifying themes that tie it together as a single, coherent field.[1][2][3] For instance, all organisms are made up of cells that process hereditary information encoded in genes, which can be transmitted to future generations. Another major theme is evolution, which explains the unity and diversity of life.[1][2][3] Energy processing is also important to life as it allows organisms to move, grow, and reproduce.[1][2][3] Finally, all organisms are able to regulate their own internal environments.[1][2][3][4][5]\n",
      "\n",
      "Biologists are able to study life at multiple levels of organization,[1] from the molecular biology of a cell to the anatomy and physiology of plants and animals, and evolution of populations.[1][6] Hence, there are multiple subdisciplines within biology, each defined by the nature of their research questions and the tools that they use.[7][8][9] Like other scientists, biologists use the scientific method to make observations, pose questions, generate hypotheses, perform experiments, and form conclusions about the world around them.[1]\n",
      "\n",
      "Life on Earth, which emerged more than 3.7 billion years ago,[10] is immensely diverse. Biologists have sought to study and classify the various forms of life, from prokaryotic organisms such as archaea and bacteria to eukaryotic organisms such as protists, fungi, plants, and animals. These various organisms contribute to the biodiversity of an ecosystem, where they play specialized roles in the cycling of nutrients and energy through their biophysical environment.\n",
      "You are an expert MCQ maker. Given the above text, it is your job to create a quiz  of 5 multiple choice questions for Biology students in simple tone. \n",
      "Make sure the questions are not repeated and check all the questions to be conforming the text as well.\n",
      "Make sure to format your response like  RESPONSE_JSON below  and use it as a guide. Ensure to make 5 MCQs\n",
      "### RESPONSE_JSON\n",
      "{\"1\": {\"mcq\": \"multiple choice question\", \"options\": {\"a\": \"choice here\", \"b\": \"choice here\", \"c\": \"choice here\", \"d\": \"choice here\"}, \"correct\": \"corect answer\"}, \"2\": {\"mcq\": \"multiple choice question\", \"options\": {\"a\": \"choice here\", \"b\": \"choice here\", \"c\": \"choice here\", \"d\": \"choice here\"}, \"correct\": \"corect answer\"}, \"3\": {\"mcq\": \"multiple choice question\", \"options\": {\"a\": \"choice here\", \"b\": \"choice here\", \"c\": \"choice here\", \"d\": \"choice here\"}, \"correct\": \"corect answer\"}}\n",
      "\n",
      "\u001b[0m\n",
      "\n",
      "\u001b[1m> Finished chain.\u001b[0m\n",
      "\n",
      "\n",
      "\u001b[1m> Entering new LLMChain chain...\u001b[0m\n",
      "Prompt after formatting:\n",
      "\u001b[32;1m\u001b[1;3m\n",
      "You are an expert english grammarian and writer. Given a Multiple Choice Quiz for Biology students.You need to evaluate the complexity of the question and give a complete analysis of the quiz. Only use at max 50 words for complexity analysis. \n",
      "if the quiz is not at per with the cognitive and analytical abilities of the students,update the quiz questions which needs to be changed and change the tone such that it perfectly fits the student abilities\n",
      "Quiz_MCQs:\n",
      "Sure, here are 5 multiple choice questions for Biology students in simple tone:\n",
      "\n",
      "1. Biology is the scientific study of:\n",
      "    * A. the universe\n",
      "    * B. life\n",
      "    * C. the human body\n",
      "    * D. the Earth\n",
      "\n",
      "2. All organisms are made up of:\n",
      "    * A. cells\n",
      "    * B. atoms\n",
      "    * C. molecules\n",
      "    * D. tissues\n",
      "\n",
      "3. Energy processing is important to life because it allows organisms to:\n",
      "    * A. move\n",
      "    * B. grow\n",
      "    * C. reproduce\n",
      "    * D. all of the above\n",
      "\n",
      "4. Biologists study life at multiple levels of organization, including:\n",
      "    * A. the molecular biology of a cell\n",
      "    * B. the anatomy and physiology of plants and animals\n",
      "    * C. the evolution of populations\n",
      "    * D. all of the above\n",
      "\n",
      "5. Life on Earth, which emerged more than 3.7 billion years ago, is immensely diverse. Biologists have sought to study and classify the various forms of life, including:\n",
      "    * A. prokaryotic organisms such as archaea and bacteria\n",
      "    * B. eukaryotic organisms such as protists, fungi, plants, and animals\n",
      "    * C. both prokaryotic and eukaryotic organisms\n",
      "    * D. none of the above\n",
      "\n",
      "The answers are:\n",
      "1. B\n",
      "2. A\n",
      "3. D\n",
      "4. D\n",
      "5. C\n",
      "\n",
      "Check from an expert English Writer of the above quiz:\n",
      "\n",
      "\u001b[0m\n",
      "\n",
      "\u001b[1m> Finished chain.\u001b[0m\n",
      "\n",
      "\u001b[1m> Finished chain.\u001b[0m\n"
     ]
    }
   ],
   "source": [
    "\n",
    "with get_openai_callback() as cb:\n",
    "    response=generate_evaluation_chain(\n",
    "        {\n",
    "            \"text\": TEXT,\n",
    "            \"number\": NUMBER,\n",
    "            \"subject\":SUBJECT,\n",
    "            \"tone\": TONE,\n",
    "            \"response_json\": json.dumps(RESPONSE_JSON)\n",
    "        }\n",
    "        )\n",
    "\n",
    "\n"
   ]
  },
  {
   "cell_type": "code",
   "execution_count": 68,
   "metadata": {},
   "outputs": [
    {
     "name": "stdout",
     "output_type": "stream",
     "text": [
      "Total Tokens:0\n",
      "Prompt Tokens:0\n",
      "Completion Tokens:0\n",
      "Total Cost:0.0\n"
     ]
    }
   ],
   "source": [
    "print(f\"Total Tokens:{cb.total_tokens}\")\n",
    "print(f\"Prompt Tokens:{cb.prompt_tokens}\")\n",
    "print(f\"Completion Tokens:{cb.completion_tokens}\")\n",
    "print(f\"Total Cost:{cb.total_cost}\")"
   ]
  },
  {
   "cell_type": "code",
   "execution_count": 65,
   "metadata": {},
   "outputs": [
    {
     "data": {
      "text/plain": [
       "{'text': 'Biology is the scientific study of life.[1][2][3] It is a natural science with a broad scope but has several unifying themes that tie it together as a single, coherent field.[1][2][3] For instance, all organisms are made up of cells that process hereditary information encoded in genes, which can be transmitted to future generations. Another major theme is evolution, which explains the unity and diversity of life.[1][2][3] Energy processing is also important to life as it allows organisms to move, grow, and reproduce.[1][2][3] Finally, all organisms are able to regulate their own internal environments.[1][2][3][4][5]\\n\\nBiologists are able to study life at multiple levels of organization,[1] from the molecular biology of a cell to the anatomy and physiology of plants and animals, and evolution of populations.[1][6] Hence, there are multiple subdisciplines within biology, each defined by the nature of their research questions and the tools that they use.[7][8][9] Like other scientists, biologists use the scientific method to make observations, pose questions, generate hypotheses, perform experiments, and form conclusions about the world around them.[1]\\n\\nLife on Earth, which emerged more than 3.7 billion years ago,[10] is immensely diverse. Biologists have sought to study and classify the various forms of life, from prokaryotic organisms such as archaea and bacteria to eukaryotic organisms such as protists, fungi, plants, and animals. These various organisms contribute to the biodiversity of an ecosystem, where they play specialized roles in the cycling of nutrients and energy through their biophysical environment.',\n",
       " 'number': 5,\n",
       " 'subject': 'Biology',\n",
       " 'tone': 'simple',\n",
       " 'response_json': '{\"1\": {\"mcq\": \"multiple choice question\", \"options\": {\"a\": \"choice here\", \"b\": \"choice here\", \"c\": \"choice here\", \"d\": \"choice here\"}, \"correct\": \"corect answer\"}, \"2\": {\"mcq\": \"multiple choice question\", \"options\": {\"a\": \"choice here\", \"b\": \"choice here\", \"c\": \"choice here\", \"d\": \"choice here\"}, \"correct\": \"corect answer\"}, \"3\": {\"mcq\": \"multiple choice question\", \"options\": {\"a\": \"choice here\", \"b\": \"choice here\", \"c\": \"choice here\", \"d\": \"choice here\"}, \"correct\": \"corect answer\"}}',\n",
       " 'quiz': 'Sure, here are 5 multiple choice questions for Biology students in simple tone:\\n\\n1. Biology is the scientific study of:\\n    * A. the universe\\n    * B. life\\n    * C. the human body\\n    * D. the Earth\\n\\n2. All organisms are made up of:\\n    * A. cells\\n    * B. atoms\\n    * C. molecules\\n    * D. tissues\\n\\n3. Energy processing is important to life because it allows organisms to:\\n    * A. move\\n    * B. grow\\n    * C. reproduce\\n    * D. all of the above\\n\\n4. Biologists study life at multiple levels of organization, including:\\n    * A. the molecular biology of a cell\\n    * B. the anatomy and physiology of plants and animals\\n    * C. the evolution of populations\\n    * D. all of the above\\n\\n5. Life on Earth, which emerged more than 3.7 billion years ago, is immensely diverse. Biologists have sought to study and classify the various forms of life, including:\\n    * A. prokaryotic organisms such as archaea and bacteria\\n    * B. eukaryotic organisms such as protists, fungi, plants, and animals\\n    * C. both prokaryotic and eukaryotic organisms\\n    * D. none of the above\\n\\nThe answers are:\\n1. B\\n2. A\\n3. D\\n4. D\\n5. C',\n",
       " 'review': \"The quiz is well-written and the questions are clear and concise. The answers are also correct and unambiguous. The tone of the quiz is appropriate for the level of the students, and the questions are not too difficult or too easy. Overall, the quiz is a good assessment of students' knowledge of biology.\\n\\nHowever, there are a few minor things that could be improved. First, the question about the levels of organization of life could be made more specific. For example, it could ask students to identify the three main levels of organization of life, or it could ask students to identify the four main levels of organization of life. Second, the question about the diversity of life could be made more specific. For example, it could ask students to identify three types of prokaryotic organisms, or it could ask students to identify three types of eukaryotic organisms.\\n\\nOverall, the quiz is a good assessment of students' knowledge of biology. The questions are clear and concise, the answers are correct and unambiguous, and the tone of the quiz is appropriate for the level of the students. However, there are a few minor things that could be improved, such as making the questions more specific.\"}"
      ]
     },
     "execution_count": 65,
     "metadata": {},
     "output_type": "execute_result"
    }
   ],
   "source": [
    "response"
   ]
  },
  {
   "cell_type": "code",
   "execution_count": 66,
   "metadata": {},
   "outputs": [],
   "source": [
    "quiz=response.get('quiz')"
   ]
  },
  {
   "cell_type": "code",
   "execution_count": 67,
   "metadata": {},
   "outputs": [
    {
     "data": {
      "text/plain": [
       "'Sure, here are 5 multiple choice questions for Biology students in simple tone:\\n\\n1. Biology is the scientific study of:\\n    * A. the universe\\n    * B. life\\n    * C. the human body\\n    * D. the Earth\\n\\n2. All organisms are made up of:\\n    * A. cells\\n    * B. atoms\\n    * C. molecules\\n    * D. tissues\\n\\n3. Energy processing is important to life because it allows organisms to:\\n    * A. move\\n    * B. grow\\n    * C. reproduce\\n    * D. all of the above\\n\\n4. Biologists study life at multiple levels of organization, including:\\n    * A. the molecular biology of a cell\\n    * B. the anatomy and physiology of plants and animals\\n    * C. the evolution of populations\\n    * D. all of the above\\n\\n5. Life on Earth, which emerged more than 3.7 billion years ago, is immensely diverse. Biologists have sought to study and classify the various forms of life, including:\\n    * A. prokaryotic organisms such as archaea and bacteria\\n    * B. eukaryotic organisms such as protists, fungi, plants, and animals\\n    * C. both prokaryotic and eukaryotic organisms\\n    * D. none of the above\\n\\nThe answers are:\\n1. B\\n2. A\\n3. D\\n4. D\\n5. C'"
      ]
     },
     "execution_count": 67,
     "metadata": {},
     "output_type": "execute_result"
    }
   ],
   "source": [
    "quiz"
   ]
  },
  {
   "cell_type": "code",
   "execution_count": 69,
   "metadata": {},
   "outputs": [],
   "source": [
    "# Parse the questions, choices, and answers\n",
    "questions = []\n",
    "choices = []\n",
    "answers = []\n",
    "\n",
    "\n"
   ]
  },
  {
   "cell_type": "code",
   "execution_count": 70,
   "metadata": {},
   "outputs": [],
   "source": [
    "lines = quiz.split('\\n')\n",
    "i = 0\n",
    "while i < len(lines):\n",
    "    line = lines[i].strip()\n",
    "    if line and line[0].isdigit():\n",
    "        question = line.split(':')[0].strip()\n",
    "        choice = \"\"\n",
    "        i += 1\n",
    "        while i < len(lines) and lines[i].strip().startswith(\"*\"):\n",
    "            choice += lines[i].strip() + \" | \"\n",
    "            i += 1\n",
    "        questions.append(question)\n",
    "        choices.append(choice.strip(\" | \"))\n",
    "    else:\n",
    "        i += 1"
   ]
  },
  {
   "cell_type": "code",
   "execution_count": 80,
   "metadata": {},
   "outputs": [],
   "source": [
    "questions=questions[:5]"
   ]
  },
  {
   "cell_type": "code",
   "execution_count": 81,
   "metadata": {},
   "outputs": [],
   "source": [
    "choices=choices[:5]"
   ]
  },
  {
   "cell_type": "code",
   "execution_count": 78,
   "metadata": {},
   "outputs": [],
   "source": [
    "# Parse the answers\n",
    "answers_section = lines.index(\"The answers are:\") + 1\n",
    "for line in lines[answers_section:]:\n",
    "    if line.strip():\n",
    "        q_num, answer = line.strip().split(\". \")\n",
    "        answers.append(answer)"
   ]
  },
  {
   "cell_type": "code",
   "execution_count": 79,
   "metadata": {},
   "outputs": [
    {
     "data": {
      "text/plain": [
       "['B', 'A', 'D', 'D', 'C']"
      ]
     },
     "execution_count": 79,
     "metadata": {},
     "output_type": "execute_result"
    }
   ],
   "source": [
    "answers"
   ]
  },
  {
   "cell_type": "code",
   "execution_count": 91,
   "metadata": {},
   "outputs": [
    {
     "data": {
      "text/plain": [
       "[{'MCQ': ['1. Biology is the scientific study of',\n",
       "   '2. All organisms are made up of',\n",
       "   '3. Energy processing is important to life because it allows organisms to',\n",
       "   '4. Biologists study life at multiple levels of organization, including',\n",
       "   '5. Life on Earth, which emerged more than 3.7 billion years ago, is immensely diverse. Biologists have sought to study and classify the various forms of life, including'],\n",
       "  'Choices': ['* A. the universe | * B. life | * C. the human body | * D. the Earth',\n",
       "   '* A. cells | * B. atoms | * C. molecules | * D. tissues',\n",
       "   '* A. move | * B. grow | * C. reproduce | * D. all of the above',\n",
       "   '* A. the molecular biology of a cell | * B. the anatomy and physiology of plants and animals | * C. the evolution of populations | * D. all of the above',\n",
       "   '* A. prokaryotic organisms such as archaea and bacteria | * B. eukaryotic organisms such as protists, fungi, plants, and animals | * C. both prokaryotic and eukaryotic organisms | * D. none of the above'],\n",
       "  'Answers': ['B', 'A', 'D', 'D', 'C']}]"
      ]
     },
     "execution_count": 91,
     "metadata": {},
     "output_type": "execute_result"
    }
   ],
   "source": [
    "([data])"
   ]
  },
  {
   "cell_type": "code",
   "execution_count": 85,
   "metadata": {},
   "outputs": [],
   "source": [
    "data={\n",
    "    \"MCQ\":questions,\n",
    "    \"Choices\":choices,\n",
    "    \"Answers\":answers\n",
    "}\n",
    "\n",
    "df = pd.DataFrame(data)"
   ]
  },
  {
   "cell_type": "code",
   "execution_count": 86,
   "metadata": {},
   "outputs": [
    {
     "data": {
      "text/html": [
       "<div>\n",
       "<style scoped>\n",
       "    .dataframe tbody tr th:only-of-type {\n",
       "        vertical-align: middle;\n",
       "    }\n",
       "\n",
       "    .dataframe tbody tr th {\n",
       "        vertical-align: top;\n",
       "    }\n",
       "\n",
       "    .dataframe thead th {\n",
       "        text-align: right;\n",
       "    }\n",
       "</style>\n",
       "<table border=\"1\" class=\"dataframe\">\n",
       "  <thead>\n",
       "    <tr style=\"text-align: right;\">\n",
       "      <th></th>\n",
       "      <th>MCQ</th>\n",
       "      <th>Choices</th>\n",
       "      <th>Answers</th>\n",
       "    </tr>\n",
       "  </thead>\n",
       "  <tbody>\n",
       "    <tr>\n",
       "      <th>0</th>\n",
       "      <td>1. Biology is the scientific study of</td>\n",
       "      <td>* A. the universe | * B. life | * C. the human...</td>\n",
       "      <td>B</td>\n",
       "    </tr>\n",
       "    <tr>\n",
       "      <th>1</th>\n",
       "      <td>2. All organisms are made up of</td>\n",
       "      <td>* A. cells | * B. atoms | * C. molecules | * D...</td>\n",
       "      <td>A</td>\n",
       "    </tr>\n",
       "    <tr>\n",
       "      <th>2</th>\n",
       "      <td>3. Energy processing is important to life beca...</td>\n",
       "      <td>* A. move | * B. grow | * C. reproduce | * D. ...</td>\n",
       "      <td>D</td>\n",
       "    </tr>\n",
       "    <tr>\n",
       "      <th>3</th>\n",
       "      <td>4. Biologists study life at multiple levels of...</td>\n",
       "      <td>* A. the molecular biology of a cell | * B. th...</td>\n",
       "      <td>D</td>\n",
       "    </tr>\n",
       "    <tr>\n",
       "      <th>4</th>\n",
       "      <td>5. Life on Earth, which emerged more than 3.7 ...</td>\n",
       "      <td>* A. prokaryotic organisms such as archaea and...</td>\n",
       "      <td>C</td>\n",
       "    </tr>\n",
       "  </tbody>\n",
       "</table>\n",
       "</div>"
      ],
      "text/plain": [
       "                                                 MCQ  \\\n",
       "0              1. Biology is the scientific study of   \n",
       "1                    2. All organisms are made up of   \n",
       "2  3. Energy processing is important to life beca...   \n",
       "3  4. Biologists study life at multiple levels of...   \n",
       "4  5. Life on Earth, which emerged more than 3.7 ...   \n",
       "\n",
       "                                             Choices Answers  \n",
       "0  * A. the universe | * B. life | * C. the human...       B  \n",
       "1  * A. cells | * B. atoms | * C. molecules | * D...       A  \n",
       "2  * A. move | * B. grow | * C. reproduce | * D. ...       D  \n",
       "3  * A. the molecular biology of a cell | * B. th...       D  \n",
       "4  * A. prokaryotic organisms such as archaea and...       C  "
      ]
     },
     "execution_count": 86,
     "metadata": {},
     "output_type": "execute_result"
    }
   ],
   "source": [
    "df.head()"
   ]
  },
  {
   "cell_type": "code",
   "execution_count": 87,
   "metadata": {},
   "outputs": [],
   "source": [
    "df.to_csv('biology_question.csv',index=False)"
   ]
  },
  {
   "cell_type": "code",
   "execution_count": 88,
   "metadata": {},
   "outputs": [
    {
     "data": {
      "text/plain": [
       "'06_26_2024_16_47_46'"
      ]
     },
     "execution_count": 88,
     "metadata": {},
     "output_type": "execute_result"
    }
   ],
   "source": [
    "from datetime import datetime\n",
    "\n",
    "datetime.now().strftime('%m_%d_%Y_%H_%M_%S')"
   ]
  },
  {
   "cell_type": "code",
   "execution_count": null,
   "metadata": {},
   "outputs": [],
   "source": []
  }
 ],
 "metadata": {
  "kernelspec": {
   "display_name": "Python 3",
   "language": "python",
   "name": "python3"
  },
  "language_info": {
   "codemirror_mode": {
    "name": "ipython",
    "version": 3
   },
   "file_extension": ".py",
   "mimetype": "text/x-python",
   "name": "python",
   "nbconvert_exporter": "python",
   "pygments_lexer": "ipython3",
   "version": "3.10.0"
  }
 },
 "nbformat": 4,
 "nbformat_minor": 2
}
